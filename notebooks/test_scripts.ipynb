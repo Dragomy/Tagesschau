{
 "cells": [
  {
   "cell_type": "markdown",
   "id": "275bbd7c-d884-4228-aab5-87031d0d98e6",
   "metadata": {},
   "source": [
    "### Can confirm cleaning and plot are infact working :D"
   ]
  },
  {
   "cell_type": "code",
   "execution_count": 1,
   "id": "5984dcca-4804-4fdc-9f7a-8c574371682d",
   "metadata": {},
   "outputs": [],
   "source": [
    "import pandas as pd\n",
    "import cleaning\n",
    "import plot"
   ]
  },
  {
   "cell_type": "code",
   "execution_count": 2,
   "id": "db041aad-065b-42bf-9714-999fbd2e9294",
   "metadata": {},
   "outputs": [
    {
     "name": "stdout",
     "output_type": "stream",
     "text": [
      "CPU times: user 3 µs, sys: 0 ns, total: 3 µs\n",
      "Wall time: 7.87 µs\n",
      "./News_2023-10-18_08-40-10.json\n",
      "./News_2023-10-18_16-16-35.json\n",
      "./News_2023-10-19_08-07-50.json\n",
      "./News_2023-10-18_13-43-53.json\n"
     ]
    }
   ],
   "source": [
    "df = pd.DataFrame\n",
    "%time\n",
    "df = cleaning.load_and_list_jsons(df)\n",
    "df = cleaning.clean_dataframe(df)"
   ]
  },
  {
   "cell_type": "code",
   "execution_count": 5,
   "id": "860ba155-6faf-4500-a89f-3a43da5f0d7c",
   "metadata": {},
   "outputs": [],
   "source": [
    "#plot.plot_regionId(df,'pie')"
   ]
  },
  {
   "cell_type": "code",
   "execution_count": 6,
   "id": "4fb6707b-0f51-465d-baf0-6ca145a76eb1",
   "metadata": {},
   "outputs": [],
   "source": [
    "#plot.plot_regionId(df,)"
   ]
  },
  {
   "cell_type": "markdown",
   "id": "ee22adef-60cc-4a9d-84ab-45a98c77e739",
   "metadata": {},
   "source": [
    "### Click to add text"
   ]
  },
  {
   "cell_type": "code",
   "execution_count": null,
   "id": "6b7067d1-87be-4053-b28a-685ba3930f9b",
   "metadata": {},
   "outputs": [],
   "source": []
  }
 ],
 "metadata": {
  "kernelspec": {
   "display_name": "Python 3 (ipykernel)",
   "language": "python",
   "name": "python3"
  },
  "language_info": {
   "codemirror_mode": {
    "name": "ipython",
    "version": 3
   },
   "file_extension": ".py",
   "mimetype": "text/x-python",
   "name": "python",
   "nbconvert_exporter": "python",
   "pygments_lexer": "ipython3",
   "version": "3.11.6"
  }
 },
 "nbformat": 4,
 "nbformat_minor": 5
}

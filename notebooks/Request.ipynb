{
 "cells": [
  {
   "cell_type": "markdown",
   "id": "ccb651b3-0918-4cb3-a17e-b30e337fc993",
   "metadata": {},
   "source": [
    "### Request new Json from Tagesschau Api"
   ]
  },
  {
   "cell_type": "code",
   "execution_count": 2,
   "id": "3ad9077f-928f-440d-a4bd-28c00c3a4b4a",
   "metadata": {},
   "outputs": [
    {
     "name": "stdout",
     "output_type": "stream",
     "text": [
      "CPU times: user 4 µs, sys: 1 µs, total: 5 µs\n",
      "Wall time: 8.82 µs\n"
     ]
    }
   ],
   "source": [
    "import os\n",
    "import requests\n",
    "import datetime\n",
    "import json\n",
    "\n",
    "\n",
    "def get_json_data_from_api_request(path = './'):\n",
    "    current_datetime = datetime.datetime.now()\n",
    "    # Api Request\n",
    "    api_url = \"https://tagesschau.de/api2/news/\"\n",
    "    response = requests.get(api_url)\n",
    "\n",
    "    #Save \n",
    "    if response.status_code == 200:\n",
    "        news_data = response.json()\n",
    "        json_name = f\"News_{current_datetime.strftime('%Y-%m-%d_%H-%M-%S')}.json\"\n",
    "        with open(os.path.join(path, json_name), \"w\") as news_file:\n",
    "            news_file.write(json.dumps(news_data))\n",
    "    else:\n",
    "        raise Exception(\"Wrong Status Code:\" + response.status_code)\n",
    "\n",
    "\n",
    "if __name__ == '__main__':\n",
    "    try:\n",
    "        %time\n",
    "        get_json_data_from_api_request()  \n",
    "    except Exception as e: \n",
    "        print('temp!')\n",
    "           "
   ]
  },
  {
   "cell_type": "code",
   "execution_count": null,
   "id": "74655e26-83c7-4239-bed0-96392ef4d7fd",
   "metadata": {},
   "outputs": [],
   "source": []
  }
 ],
 "metadata": {
  "kernelspec": {
   "display_name": "Python 3 (ipykernel)",
   "language": "python",
   "name": "python3"
  },
  "language_info": {
   "codemirror_mode": {
    "name": "ipython",
    "version": 3
   },
   "file_extension": ".py",
   "mimetype": "text/x-python",
   "name": "python",
   "nbconvert_exporter": "python",
   "pygments_lexer": "ipython3",
   "version": "3.11.6"
  }
 },
 "nbformat": 4,
 "nbformat_minor": 5
}

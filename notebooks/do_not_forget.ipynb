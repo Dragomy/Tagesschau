{
 "cells": [
  {
   "cell_type": "markdown",
   "id": "7077bd9c-5478-4d8c-afbd-96010d6d2693",
   "metadata": {},
   "source": [
    "## How to:"
   ]
  },
  {
   "cell_type": "markdown",
   "id": "5f80d9e3-08ce-44f0-b0d6-d8b37b2e7a75",
   "metadata": {
    "jp-MarkdownHeadingCollapsed": true
   },
   "source": [
    "#### Standard Python:"
   ]
  },
  {
   "cell_type": "code",
   "execution_count": 2,
   "id": "912b6130-3b83-430d-92e6-1e951790ebb0",
   "metadata": {},
   "outputs": [],
   "source": [
    "list = []\n",
    "lictionary = {}"
   ]
  },
  {
   "cell_type": "code",
   "execution_count": 4,
   "id": "012970f9-d0eb-4811-880a-4321f632d400",
   "metadata": {},
   "outputs": [
    {
     "data": {
      "text/plain": [
       "9"
      ]
     },
     "execution_count": 4,
     "metadata": {},
     "output_type": "execute_result"
    }
   ],
   "source": [
    "# The length of your Object:\n",
    "object = 'My Object'\n",
    "len(object)"
   ]
  },
  {
   "cell_type": "markdown",
   "id": "9ca2bde6-11c5-4199-8649-5eb8fa9c153c",
   "metadata": {
    "jp-MarkdownHeadingCollapsed": true
   },
   "source": [
    "#### Lists"
   ]
  },
  {
   "cell_type": "code",
   "execution_count": 16,
   "id": "75ca9bfd-90ac-4941-81fe-bde9101e7e32",
   "metadata": {},
   "outputs": [
    {
     "data": {
      "text/plain": [
       "['Object in/as List']"
      ]
     },
     "execution_count": 16,
     "metadata": {},
     "output_type": "execute_result"
    }
   ],
   "source": [
    "# Extending a List\n",
    "list = [] #Just so the List doesnt get to big in this example\n",
    "list.extend(['Object in/as List'])\n",
    "list"
   ]
  },
  {
   "cell_type": "raw",
   "id": "8ba8659b-48bd-4258-a235-1e1cebafe554",
   "metadata": {},
   "source": [
    "list.extend \n",
    "list.insert\n",
    "list.count\n",
    "list.copy"
   ]
  },
  {
   "cell_type": "markdown",
   "id": "d1cdbbce-9ffe-492d-bd7f-3e5045d17e9c",
   "metadata": {},
   "source": [
    "#### Dataframes:"
   ]
  },
  {
   "cell_type": "code",
   "execution_count": 11,
   "id": "315a99c4-a1f1-4869-a820-af44a2291a6c",
   "metadata": {},
   "outputs": [],
   "source": [
    "import pandas as pd"
   ]
  },
  {
   "cell_type": "code",
   "execution_count": 15,
   "id": "04939938-f420-4871-bccc-9462bc3fdbfd",
   "metadata": {},
   "outputs": [
    {
     "data": {
      "text/html": [
       "<div>\n",
       "<style scoped>\n",
       "    .dataframe tbody tr th:only-of-type {\n",
       "        vertical-align: middle;\n",
       "    }\n",
       "\n",
       "    .dataframe tbody tr th {\n",
       "        vertical-align: top;\n",
       "    }\n",
       "\n",
       "    .dataframe thead th {\n",
       "        text-align: right;\n",
       "    }\n",
       "</style>\n",
       "<table border=\"1\" class=\"dataframe\">\n",
       "  <thead>\n",
       "    <tr style=\"text-align: right;\">\n",
       "      <th></th>\n",
       "      <th>Spalte1</th>\n",
       "    </tr>\n",
       "  </thead>\n",
       "  <tbody>\n",
       "    <tr>\n",
       "      <th>0</th>\n",
       "      <td>1</td>\n",
       "    </tr>\n",
       "    <tr>\n",
       "      <th>1</th>\n",
       "      <td>2</td>\n",
       "    </tr>\n",
       "    <tr>\n",
       "      <th>2</th>\n",
       "      <td>1</td>\n",
       "    </tr>\n",
       "    <tr>\n",
       "      <th>3</th>\n",
       "      <td>2</td>\n",
       "    </tr>\n",
       "  </tbody>\n",
       "</table>\n",
       "</div>"
      ],
      "text/plain": [
       "   Spalte1\n",
       "0        1\n",
       "1        2\n",
       "2        1\n",
       "3        2"
      ]
     },
     "execution_count": 15,
     "metadata": {},
     "output_type": "execute_result"
    }
   ],
   "source": [
    "#Connecting DataFrames\n",
    "df1 = pd.DataFrame({'Spalte1': [1, 2]})\n",
    "df2 = pd.DataFrame({'Spalte1': [1, 2]})\n",
    "\n",
    "pd.concat([df1, df2], ignore_index=True, axis=0)"
   ]
  },
  {
   "cell_type": "markdown",
   "id": "1ef8b3c7-ccdd-4b59-8a97-964cc115897c",
   "metadata": {},
   "source": [
    "##### Sorting for specific things in a DataFrame:\n",
    "df.loc[df.date <= '2023-10-09']\n",
    "\n",
    "df['Spalte']\n",
    "df.loc['Zeile']\n",
    "df.loc['Zeile', 'Spalte']\n",
    "df.loc[['Zeilen'], ['Spalten']]\n",
    "\n",
    "df['Spalte'] == 'wert'  # boolscher Index (Spalte)\n",
    "\n",
    "#mehrere\n",
    "(df['Spalte1'] == 'wert') & (df['Spalte2'] == 'wert')\n",
    "\n",
    "#boolscher index verwenden\n",
    "df.loc[bool_index]"
   ]
  },
  {
   "cell_type": "markdown",
   "id": "25eb5636-bf52-4f59-8cda-e1f74649e429",
   "metadata": {},
   "source": [
    "##### Examples:\n",
    "\n",
    "#Sorts for rows containing two or more regionIds\n",
    "df.loc[df['regionIds'].str.len() >= 2.0]\n",
    "\n",
    "#Sorts for news which type is not story\n",
    "df.loc[df['type'] != \"story\"]\n",
    "\n",
    "#Sorts for rows containing video in its sophoraId\n",
    "df.loc[df['sophoraId'].str.contains(\"video\")]"
   ]
  },
  {
   "cell_type": "raw",
   "id": "9dac5643-9f12-4908-a8b3-093caeb891cd",
   "metadata": {},
   "source": [
    "def list_tags(zeile):\n",
    "    tmp = []\n",
    "\n",
    "    for x in zeile:\n",
    "        tmp.append(x['tag'])\n",
    "    \n",
    "    return tmp\n",
    "    # or just return [x['tag'] for x in zeile]\n",
    "    "
   ]
  },
  {
   "cell_type": "markdown",
   "id": "5bc67f9f-9f88-4117-8ae5-32fabdb0262e",
   "metadata": {},
   "source": [
    "## Do not forget to check:"
   ]
  },
  {
   "cell_type": "markdown",
   "id": "355ba752-6515-456f-9457-218e23479201",
   "metadata": {},
   "source": [
    "Tagesschau Api returns a next page parameter.\n",
    "What could that imply?"
   ]
  },
  {
   "cell_type": "markdown",
   "id": "869c8b40-1dde-4c88-8a2e-5032245c0b23",
   "metadata": {},
   "source": [
    "Pandas Cheat Sheet:\n",
    "https://pandas.pydata.org/Pandas_Cheat_Sheet.pdf"
   ]
  },
  {
   "cell_type": "raw",
   "id": "c6555f49-e1c4-4f06-b6ab-dcb28cbcd37f",
   "metadata": {},
   "source": [
    "As stated here: https://crontab.guru/every-1-hour\n",
    "The cron command: 0 * * * * /user/programm\n",
    "should execute the programm evry 0th minute of an hour ,so every hour."
   ]
  },
  {
   "cell_type": "raw",
   "id": "785926ca-1aba-4c99-b349-9a2459a01c54",
   "metadata": {},
   "source": [
    "plotly python library for data visualization: https://plotly.com/"
   ]
  },
  {
   "cell_type": "raw",
   "id": "ad4a561b-8062-495e-bf94-dbeedf7d8022",
   "metadata": {},
   "source": [
    "https://www.sqlite.org/index.html"
   ]
  },
  {
   "cell_type": "raw",
   "id": "5edb0ced-6523-44b9-a979-18cc01e8ab5c",
   "metadata": {},
   "source": [
    "https://docs.python.org/3/library/sqlite3.html"
   ]
  },
  {
   "cell_type": "raw",
   "id": "ba0e778d-3e4e-47ee-80c8-4064003ac711",
   "metadata": {},
   "source": [
    "https://godotengine.org/asset-library/asset/1686"
   ]
  },
  {
   "cell_type": "raw",
   "id": "f7f525b1-1140-4c83-9363-5ef34d80447d",
   "metadata": {},
   "source": [
    "Daten Diagramme (In richtung Uml etc...)"
   ]
  },
  {
   "cell_type": "code",
   "execution_count": null,
   "id": "98858064-9d48-4e9f-aa80-8e8622393713",
   "metadata": {},
   "outputs": [],
   "source": []
  }
 ],
 "metadata": {
  "kernelspec": {
   "display_name": "Python 3 (ipykernel)",
   "language": "python",
   "name": "python3"
  },
  "language_info": {
   "codemirror_mode": {
    "name": "ipython",
    "version": 3
   },
   "file_extension": ".py",
   "mimetype": "text/x-python",
   "name": "python",
   "nbconvert_exporter": "python",
   "pygments_lexer": "ipython3",
   "version": "3.11.6"
  }
 },
 "nbformat": 4,
 "nbformat_minor": 5
}

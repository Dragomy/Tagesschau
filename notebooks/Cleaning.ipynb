{
 "cells": [
  {
   "cell_type": "markdown",
   "id": "484bb301-bdfd-4740-b9a3-66038b8e276a",
   "metadata": {},
   "source": [
    "# Cleaning and Filtering of data"
   ]
  },
  {
   "cell_type": "markdown",
   "id": "b0e9cdca-a303-45d7-9c1d-4d9eb9bad2f5",
   "metadata": {},
   "source": [
    "#### Subject: Cleaning Tags response"
   ]
  },
  {
   "cell_type": "markdown",
   "id": "45d929ef-840e-4983-b2ef-387ee77b83b8",
   "metadata": {
    "jp-MarkdownHeadingCollapsed": true
   },
   "source": [
    "##### This is how to <u>*not*</u> approach it:"
   ]
  },
  {
   "cell_type": "code",
   "execution_count": 122,
   "id": "0d775380-ca9d-4cc5-a199-1f1d37f3b4d6",
   "metadata": {},
   "outputs": [],
   "source": [
    "# Our Tags ar a list of dictionarys with the following structure:\n",
    "#    [{Tag : 'Tag1'}, {Tag : 'Tag2'}]\n",
    "# We could try replacing all dictionary things so we end up having a list like this:\n",
    "#    [Tag1,Tag2]\n",
    "# Therefore we should try to automatically remove the following two strings from the tag row\n",
    "#    \"{'tag':\" and \"}\"\n",
    "# After that one could go through each collumn and add the tags to a list "
   ]
  },
  {
   "cell_type": "markdown",
   "id": "be4fb0f7-6a50-4217-8020-27837a6c40be",
   "metadata": {},
   "source": [
    "##### How it is done :"
   ]
  },
  {
   "cell_type": "code",
   "execution_count": 1,
   "id": "f08996c0-fb51-4bb1-913f-8c0846cba8a8",
   "metadata": {},
   "outputs": [],
   "source": [
    "#Way 1:\n",
    "def list_tags(line):\n",
    "    tmp = []\n",
    "\n",
    "    for x in line:\n",
    "        tmp.append(x['tag'])\n",
    "    \n",
    "    return tmp    "
   ]
  },
  {
   "cell_type": "code",
   "execution_count": 124,
   "id": "cc62e121-a42c-4688-a8d9-72f3b8de3f4a",
   "metadata": {},
   "outputs": [],
   "source": [
    "#Or Way 2:\n",
    "def list_tags2(line):\n",
    "    return [x['tag'] for x in line]"
   ]
  },
  {
   "cell_type": "markdown",
   "id": "1ac107d0-eed1-4124-acd0-806eb19902c2",
   "metadata": {
    "jp-MarkdownHeadingCollapsed": true
   },
   "source": [
    "##### Garbage Collector"
   ]
  },
  {
   "cell_type": "code",
   "execution_count": 53,
   "id": "8728e6da-9e86-41c9-9b1d-c7c7d70fd7a5",
   "metadata": {},
   "outputs": [],
   "source": [
    "import pandas as pd\n",
    "import cleaning\n",
    "import plot"
   ]
  },
  {
   "cell_type": "code",
   "execution_count": 54,
   "id": "225790a8-907b-4daf-b0b2-ec0ca2ba14b3",
   "metadata": {},
   "outputs": [
    {
     "name": "stdout",
     "output_type": "stream",
     "text": [
      "CPU times: user 3 µs, sys: 1 µs, total: 4 µs\n",
      "Wall time: 7.15 µs\n",
      "./News_2023-10-18_08-40-10.json\n",
      "./News_2023-10-18_16-16-35.json\n",
      "./News_2023-10-19_08-07-50.json\n",
      "./News_2023-10-18_13-43-53.json\n",
      "./News_2023-10-19_11-52-17.json\n"
     ]
    }
   ],
   "source": [
    "df = pd.DataFrame\n",
    "%time\n",
    "df = cleaning.load_and_list_jsons(df)\n",
    "df = cleaning.clean_dataframe(df)"
   ]
  },
  {
   "cell_type": "code",
   "execution_count": 69,
   "id": "e902190d-9d5c-490c-8f60-63e3983092f8",
   "metadata": {},
   "outputs": [
    {
     "data": {
      "text/plain": [
       "[2, 4, 6]"
      ]
     },
     "execution_count": 69,
     "metadata": {},
     "output_type": "execute_result"
    }
   ],
   "source": [
    "[x*2 for x in [1,2,3]]"
   ]
  },
  {
   "cell_type": "code",
   "execution_count": 121,
   "id": "5996cde3-ff87-405d-90b5-b8614b98f376",
   "metadata": {},
   "outputs": [
    {
     "data": {
      "text/plain": [
       "['Israel', 'Liveblog']"
      ]
     },
     "execution_count": 121,
     "metadata": {},
     "output_type": "execute_result"
    }
   ],
   "source": [
    "tmp = [{'tag': 'Israel'}, {'tag': 'Liveblog'}]\n",
    "# ['Israel', 'Liveblog']\n",
    "\n",
    "[x['tag'] for x in tmp]"
   ]
  },
  {
   "cell_type": "code",
   "execution_count": 76,
   "id": "c4839735-2d15-40dd-a52c-ca235dd97b55",
   "metadata": {},
   "outputs": [],
   "source": [
    "def list_tags(zeile):\n",
    "    tmp = []\n",
    "\n",
    "    for x in zeile:\n",
    "        tmp.append(x['tag'])\n",
    "    \n",
    "    return tmp\n",
    "    # or just return [x['tag'] for x in zeile]\n",
    "    "
   ]
  },
  {
   "cell_type": "code",
   "execution_count": 114,
   "id": "02cb3541-1349-4b53-871e-fd1dc1cb4818",
   "metadata": {},
   "outputs": [
    {
     "name": "stdout",
     "output_type": "stream",
     "text": [
      "2\n",
      "3\n",
      "4\n",
      "6\n",
      "6\n",
      "9\n"
     ]
    }
   ],
   "source": [
    "for a in [1, 2, 3]:\n",
    "    for b in [2, 3]:\n",
    "        print(a*b)\n",
    "\n",
    "\n"
   ]
  },
  {
   "cell_type": "code",
   "execution_count": null,
   "id": "07994463-f95a-4c33-9c0d-b7988dbbef3e",
   "metadata": {},
   "outputs": [],
   "source": [
    "for(int x=0; x<10; x++){\n",
    "    \n",
    "}\n",
    "\n",
    "for x in range(0, 10, 1):\n",
    "    "
   ]
  },
  {
   "cell_type": "code",
   "execution_count": 119,
   "id": "7d68979e-5f15-4e94-bf65-c2330c27664c",
   "metadata": {},
   "outputs": [
    {
     "data": {
      "text/plain": [
       "[0, 1, 2, 3, 4, 5, 6, 7, 8, 9]"
      ]
     },
     "execution_count": 119,
     "metadata": {},
     "output_type": "execute_result"
    }
   ],
   "source": [
    "list(range(0, 10, 1))"
   ]
  },
  {
   "cell_type": "code",
   "execution_count": 96,
   "id": "dda5b7c3-a6d1-4431-bc3b-8335d93eacad",
   "metadata": {},
   "outputs": [
    {
     "data": {
      "text/plain": [
       "[{'tag': 'Israel'}, {'tag': 'Liveblog'}]"
      ]
     },
     "execution_count": 96,
     "metadata": {},
     "output_type": "execute_result"
    }
   ],
   "source": [
    "for zeile in df.tags:\n",
    "    break\n",
    "    for dic in zeile:\n",
    "        print(dic['tag'])\n",
    "\n",
    "zeile"
   ]
  },
  {
   "cell_type": "code",
   "execution_count": 57,
   "id": "40dd6194-470d-4584-96db-3450f5f4903d",
   "metadata": {},
   "outputs": [],
   "source": [
    "#tmp = df['tags'].str.replace(\"{'tag:'\",\"a\")\n",
    "#tmp"
   ]
  },
  {
   "cell_type": "code",
   "execution_count": 120,
   "id": "3155cc55-f45b-4c3a-976e-b7aa4b4c4304",
   "metadata": {},
   "outputs": [],
   "source": [
    "#df['sophoraId','date']"
   ]
  },
  {
   "cell_type": "code",
   "execution_count": null,
   "id": "4a167788-443c-40d9-8ad9-bb8c559eff1f",
   "metadata": {},
   "outputs": [],
   "source": []
  }
 ],
 "metadata": {
  "kernelspec": {
   "display_name": "Python 3 (ipykernel)",
   "language": "python",
   "name": "python3"
  }
 },
 "nbformat": 4,
 "nbformat_minor": 5
}

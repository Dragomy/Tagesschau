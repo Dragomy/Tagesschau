{
 "cells": [
  {
   "cell_type": "code",
   "execution_count": 2,
   "id": "de9581d0-df5e-4a39-9be6-e72a229cc72f",
   "metadata": {
    "tags": []
   },
   "outputs": [],
   "source": [
    "import os\n",
    "import json\n",
    "import pandas as pd"
   ]
  },
  {
   "cell_type": "markdown",
   "id": "3b72ae5c-a351-4289-9f2f-aaf8d87957ff",
   "metadata": {},
   "source": [
    "### Selfnote: Please import the new Json read things here!"
   ]
  },
  {
   "cell_type": "code",
   "execution_count": 6,
   "id": "ed4f3990-ec76-4f57-ac72-da6de003c83c",
   "metadata": {
    "tags": []
   },
   "outputs": [
    {
     "name": "stdout",
     "output_type": "stream",
     "text": [
      "CPU times: total: 0 ns\n",
      "Wall time: 0 ns\n",
      "11\n"
     ]
    }
   ],
   "source": [
    "%time\n",
    "print(1+10)"
   ]
  }
 ],
 "metadata": {
  "kernelspec": {
   "display_name": "Python 3 (ipykernel)",
   "language": "python",
   "name": "python3"
  },
  "language_info": {
   "codemirror_mode": {
    "name": "ipython",
    "version": 3
   },
   "file_extension": ".py",
   "mimetype": "text/x-python",
   "name": "python",
   "nbconvert_exporter": "python",
   "pygments_lexer": "ipython3",
   "version": "3.11.5"
  }
 },
 "nbformat": 4,
 "nbformat_minor": 5
}

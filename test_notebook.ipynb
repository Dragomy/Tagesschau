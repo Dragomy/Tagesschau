{
 "cells": [
  {
   "cell_type": "markdown",
   "id": "3b72ae5c-a351-4289-9f2f-aaf8d87957ff",
   "metadata": {},
   "source": [
    "### Selfnote: Please import the new Json read things here!"
   ]
  },
  {
   "cell_type": "code",
   "execution_count": null,
   "id": "b5e63b86",
   "metadata": {},
   "outputs": [],
   "source": []
  }
 ],
 "metadata": {
  "kernelspec": {
   "display_name": "Python 3 (ipykernel)",
   "language": "python",
   "name": "python3"
  },
  "language_info": {
   "codemirror_mode": {
    "name": "ipython",
    "version": 3
   },
   "file_extension": ".py",
   "mimetype": "text/x-python",
   "name": "python",
   "nbconvert_exporter": "python",
   "pygments_lexer": "ipython3",
   "version": "3.11.6"
  }
 },
 "nbformat": 4,
 "nbformat_minor": 5
}

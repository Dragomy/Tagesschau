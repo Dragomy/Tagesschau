{
 "cells": [
  {
   "cell_type": "code",
   "execution_count": 1,
   "id": "de9581d0-df5e-4a39-9be6-e72a229cc72f",
   "metadata": {
    "tags": []
   },
   "outputs": [],
   "source": [
    "import os\n",
    "import json\n",
    "import pandas as pd"
   ]
  },
  {
   "cell_type": "markdown",
   "id": "3b72ae5c-a351-4289-9f2f-aaf8d87957ff",
   "metadata": {},
   "source": [
    "### Selfnote: Please import the new Json read things here!"
   ]
  },
  {
   "cell_type": "code",
   "execution_count": 9,
   "id": "ed4f3990-ec76-4f57-ac72-da6de003c83c",
   "metadata": {
    "tags": []
   },
   "outputs": [
    {
     "name": "stdout",
     "output_type": "stream",
     "text": [
      "1\n"
     ]
    }
   ],
   "source": [
    "print(1)"
   ]
  },
  {
   "cell_type": "code",
   "execution_count": null,
   "id": "f9aa8a71-8c7a-4f2b-8b65-5b6de2922ed3",
   "metadata": {},
   "outputs": [],
   "source": []
  }
 ],
 "metadata": {
  "kernelspec": {
   "display_name": "Python 3 (ipykernel)",
   "language": "python",
   "name": "python3"
  },
  "language_info": {
   "codemirror_mode": {
    "name": "ipython",
    "version": 3
   },
   "file_extension": ".py",
   "mimetype": "text/x-python",
   "name": "python",
   "nbconvert_exporter": "python",
   "pygments_lexer": "ipython3",
   "version": "3.11.5"
  }
 },
 "nbformat": 4,
 "nbformat_minor": 5
}

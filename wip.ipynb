{
 "cells": [
  {
   "cell_type": "code",
   "execution_count": 1,
   "metadata": {
    "tags": []
   },
   "outputs": [],
   "source": [
    "import os\n",
    "import gzip\n",
    "import json\n",
    "import pandas as pd"
   ]
  },
  {
   "cell_type": "code",
   "execution_count": 2,
   "metadata": {
    "tags": []
   },
   "outputs": [],
   "source": [
    "def load_json(file_path):\n",
    "    with open(file_path, 'r') as json_file:\n",
    "        data = json.load(json_file)['news']\n",
    "        df_temp = pd.DataFrame.from_records(data)\n",
    "        return df_temp\n",
    "\n",
    "def load_gzip(file_path):\n",
    "    with gzip.open(file_path, 'rt') as gzipped_json_file:\n",
    "        data = json.load(gzipped_json_file)['news']\n",
    "        df_temp = pd.DataFrame.from_records(data)\n",
    "        return df_temp"
   ]
  },
  {
   "cell_type": "code",
   "execution_count": 3,
   "metadata": {
    "tags": []
   },
   "outputs": [],
   "source": [
    "# Opens all JSON or gzipped JSON files in the specified folder and packs them into a list for later use.\n",
    "def data_to_dataframe(folder_path='News'):\n",
    "    list_of_data_frames = []\n",
    "    \n",
    "    for filename in os.listdir(folder_path):\n",
    "        file_path = os.path.join(folder_path, filename)\n",
    "        \n",
    "        if filename.endswith('.json'):\n",
    "            list_of_data_frames.append(load_json(file_path))\n",
    "                \n",
    "        elif filename.endswith('.json.gz'):\n",
    "            list_of_data_frames.append(load_gzip(file_path))\n",
    "                \n",
    "    print('Process finished')\n",
    "    return pd.concat(list_of_data_frames, ignore_index=True)"
   ]
  },
  {
   "cell_type": "code",
   "execution_count": 4,
   "metadata": {
    "tags": []
   },
   "outputs": [
    {
     "name": "stdout",
     "output_type": "stream",
     "text": [
      "Process finished\n"
     ]
    }
   ],
   "source": [
    "df = data_to_dataframe()"
   ]
  },
  {
   "cell_type": "code",
   "execution_count": 5,
   "metadata": {
    "tags": []
   },
   "outputs": [],
   "source": [
    "df_dropped = df.drop_duplicates(subset = 'sophoraId', keep = 'last')"
   ]
  },
  {
   "cell_type": "code",
   "execution_count": 6,
   "metadata": {
    "tags": []
   },
   "outputs": [],
   "source": [
    "pd.set_option('display.max_columns', None)"
   ]
  },
  {
   "cell_type": "code",
   "execution_count": 7,
   "metadata": {
    "tags": []
   },
   "outputs": [],
   "source": [
    "df['date'] = pd.to_datetime(df['date'])"
   ]
  },
  {
   "cell_type": "code",
   "execution_count": 8,
   "metadata": {
    "tags": []
   },
   "outputs": [],
   "source": [
    "columns_to_remove = ['updateCheckUrl', 'details', 'detailsweb', 'shareURL', 'streams', 'comments']\n",
    "df = df.drop(columns=columns_to_remove) "
   ]
  },
  {
   "cell_type": "code",
   "execution_count": 12,
   "metadata": {
    "tags": []
   },
   "outputs": [
    {
     "data": {
      "text/html": [
       "<div>\n",
       "<style scoped>\n",
       "    .dataframe tbody tr th:only-of-type {\n",
       "        vertical-align: middle;\n",
       "    }\n",
       "\n",
       "    .dataframe tbody tr th {\n",
       "        vertical-align: top;\n",
       "    }\n",
       "\n",
       "    .dataframe thead th {\n",
       "        text-align: right;\n",
       "    }\n",
       "</style>\n",
       "<table border=\"1\" class=\"dataframe\">\n",
       "  <thead>\n",
       "    <tr style=\"text-align: right;\">\n",
       "      <th></th>\n",
       "      <th>sophoraId</th>\n",
       "      <th>externalId</th>\n",
       "      <th>title</th>\n",
       "      <th>date</th>\n",
       "      <th>teaserImage</th>\n",
       "      <th>tags</th>\n",
       "      <th>tracking</th>\n",
       "      <th>topline</th>\n",
       "      <th>firstSentence</th>\n",
       "      <th>brandingImage</th>\n",
       "      <th>geotags</th>\n",
       "      <th>regionId</th>\n",
       "      <th>regionIds</th>\n",
       "      <th>type</th>\n",
       "      <th>breakingNews</th>\n",
       "      <th>alttext</th>\n",
       "      <th>copyright</th>\n",
       "      <th>ressort</th>\n",
       "    </tr>\n",
       "  </thead>\n",
       "  <tbody>\n",
       "    <tr>\n",
       "      <th>0</th>\n",
       "      <td>ndr-36-jaehriger-schwimmer-tot-aus-kiessee-bei...</td>\n",
       "      <td>tagesschau_fm-story-id-4ed766b3-779f-44f7-9faa...</td>\n",
       "      <td>36-jähriger Schwimmer tot aus Kiessee bei Frie...</td>\n",
       "      <td>2023-10-22 19:52:00+02:00</td>\n",
       "      <td>{'title': 'Mit Blaulicht und Martinshorn soll ...</td>\n",
       "      <td>[{'tag': 'Niedersachsen'}]</td>\n",
       "      <td>[{'sid': 'app.inland.regional.niedersachsen.nd...</td>\n",
       "      <td>Niedersachsen</td>\n",
       "      <td>Taucher fanden den Mann rund eine Stunde, nach...</td>\n",
       "      <td>{'title': 'Logo NDR', 'copyright': 'tagesschau...</td>\n",
       "      <td>[]</td>\n",
       "      <td>9.0</td>\n",
       "      <td>[9]</td>\n",
       "      <td>story</td>\n",
       "      <td>False</td>\n",
       "      <td>NaN</td>\n",
       "      <td>NaN</td>\n",
       "      <td>NaN</td>\n",
       "    </tr>\n",
       "    <tr>\n",
       "      <th>1</th>\n",
       "      <td>wettervorhersage-europa-100</td>\n",
       "      <td>a13811c2-a633-446d-8c44-f854dbdb9233</td>\n",
       "      <td>Wetterlage und Temperaturen</td>\n",
       "      <td>2023-10-22 19:46:52.550000+02:00</td>\n",
       "      <td>{'copyright': 'ARD', 'alttext': 'Europa Wetter...</td>\n",
       "      <td>[{'tag': 'Wetter'}]</td>\n",
       "      <td>[{'sid': 'app.wetter.europa-welt.wettervorhers...</td>\n",
       "      <td>Wettervorhersage Europa</td>\n",
       "      <td></td>\n",
       "      <td>NaN</td>\n",
       "      <td>[]</td>\n",
       "      <td>0.0</td>\n",
       "      <td>[]</td>\n",
       "      <td>story</td>\n",
       "      <td>False</td>\n",
       "      <td>NaN</td>\n",
       "      <td>NaN</td>\n",
       "      <td>NaN</td>\n",
       "    </tr>\n",
       "    <tr>\n",
       "      <th>2</th>\n",
       "      <td>hr-buergermeisterwahlen-ein-amtsinhaber-muss-g...</td>\n",
       "      <td>tagesschau_fm-story-id-902744f0-b542-4f4c-8098...</td>\n",
       "      <td>Bürgermeisterwahlen: Ein Amtsinhaber muss gehe...</td>\n",
       "      <td>2023-10-22 19:44:54.726000+02:00</td>\n",
       "      <td>{'copyright': 'picture-alliance/dpa (Archiv)',...</td>\n",
       "      <td>[{'tag': 'Hessen'}]</td>\n",
       "      <td>[{'sid': 'app.inland.regional.hessen.hr-buerge...</td>\n",
       "      <td>Hessen</td>\n",
       "      <td>In vier hessischen Kommunen fanden am Sonntag ...</td>\n",
       "      <td>{'title': 'Logo HR', 'copyright': 'tagesschau,...</td>\n",
       "      <td>[]</td>\n",
       "      <td>7.0</td>\n",
       "      <td>[7]</td>\n",
       "      <td>story</td>\n",
       "      <td>False</td>\n",
       "      <td>NaN</td>\n",
       "      <td>NaN</td>\n",
       "      <td>NaN</td>\n",
       "    </tr>\n",
       "  </tbody>\n",
       "</table>\n",
       "</div>"
      ],
      "text/plain": [
       "                                           sophoraId  \\\n",
       "0  ndr-36-jaehriger-schwimmer-tot-aus-kiessee-bei...   \n",
       "1                        wettervorhersage-europa-100   \n",
       "2  hr-buergermeisterwahlen-ein-amtsinhaber-muss-g...   \n",
       "\n",
       "                                          externalId  \\\n",
       "0  tagesschau_fm-story-id-4ed766b3-779f-44f7-9faa...   \n",
       "1               a13811c2-a633-446d-8c44-f854dbdb9233   \n",
       "2  tagesschau_fm-story-id-902744f0-b542-4f4c-8098...   \n",
       "\n",
       "                                               title  \\\n",
       "0  36-jähriger Schwimmer tot aus Kiessee bei Frie...   \n",
       "1                        Wetterlage und Temperaturen   \n",
       "2  Bürgermeisterwahlen: Ein Amtsinhaber muss gehe...   \n",
       "\n",
       "                               date  \\\n",
       "0         2023-10-22 19:52:00+02:00   \n",
       "1  2023-10-22 19:46:52.550000+02:00   \n",
       "2  2023-10-22 19:44:54.726000+02:00   \n",
       "\n",
       "                                         teaserImage  \\\n",
       "0  {'title': 'Mit Blaulicht und Martinshorn soll ...   \n",
       "1  {'copyright': 'ARD', 'alttext': 'Europa Wetter...   \n",
       "2  {'copyright': 'picture-alliance/dpa (Archiv)',...   \n",
       "\n",
       "                         tags  \\\n",
       "0  [{'tag': 'Niedersachsen'}]   \n",
       "1         [{'tag': 'Wetter'}]   \n",
       "2         [{'tag': 'Hessen'}]   \n",
       "\n",
       "                                            tracking                  topline  \\\n",
       "0  [{'sid': 'app.inland.regional.niedersachsen.nd...            Niedersachsen   \n",
       "1  [{'sid': 'app.wetter.europa-welt.wettervorhers...  Wettervorhersage Europa   \n",
       "2  [{'sid': 'app.inland.regional.hessen.hr-buerge...                   Hessen   \n",
       "\n",
       "                                       firstSentence  \\\n",
       "0  Taucher fanden den Mann rund eine Stunde, nach...   \n",
       "1                                                      \n",
       "2  In vier hessischen Kommunen fanden am Sonntag ...   \n",
       "\n",
       "                                       brandingImage geotags  regionId  \\\n",
       "0  {'title': 'Logo NDR', 'copyright': 'tagesschau...      []       9.0   \n",
       "1                                                NaN      []       0.0   \n",
       "2  {'title': 'Logo HR', 'copyright': 'tagesschau,...      []       7.0   \n",
       "\n",
       "  regionIds   type breakingNews alttext copyright ressort  \n",
       "0       [9]  story        False     NaN       NaN     NaN  \n",
       "1        []  story        False     NaN       NaN     NaN  \n",
       "2       [7]  story        False     NaN       NaN     NaN  "
      ]
     },
     "execution_count": 12,
     "metadata": {},
     "output_type": "execute_result"
    }
   ],
   "source": [
    "df.head(3)"
   ]
  },
  {
   "cell_type": "code",
   "execution_count": 13,
   "metadata": {
    "tags": []
   },
   "outputs": [],
   "source": [
    "pd.set_option('display.max_rows', None)\n",
    "pd.set_option('display.max_columns', None)"
   ]
  },
  {
   "cell_type": "code",
   "execution_count": 14,
   "metadata": {
    "tags": []
   },
   "outputs": [
    {
     "data": {
      "text/plain": [
       "0    {'title': 'Mit Blaulicht und Martinshorn soll ...\n",
       "1    {'copyright': 'ARD', 'alttext': 'Europa Wetter...\n",
       "2    {'copyright': 'picture-alliance/dpa (Archiv)',...\n",
       "Name: teaserImage, dtype: object"
      ]
     },
     "execution_count": 14,
     "metadata": {},
     "output_type": "execute_result"
    }
   ],
   "source": [
    "column_data = df['teaserImage']\n",
    "column_data.head(3)"
   ]
  },
  {
   "cell_type": "code",
   "execution_count": 15,
   "metadata": {
    "tags": []
   },
   "outputs": [
    {
     "data": {
      "text/plain": [
       "0    [{'sid': 'app.inland.regional.niedersachsen.nd...\n",
       "1    [{'sid': 'app.wetter.europa-welt.wettervorhers...\n",
       "2    [{'sid': 'app.inland.regional.hessen.hr-buerge...\n",
       "Name: tracking, dtype: object"
      ]
     },
     "execution_count": 15,
     "metadata": {},
     "output_type": "execute_result"
    }
   ],
   "source": [
    "column_data = df['tracking']\n",
    "column_data.head(3)"
   ]
  },
  {
   "cell_type": "code",
   "execution_count": 16,
   "metadata": {
    "tags": []
   },
   "outputs": [],
   "source": [
    "def list_tags(line):\n",
    "    #tmp = []\n",
    "    #for x in line:\n",
    "        #tmp.append(x['tag'])\n",
    "    #return tmp\n",
    "    # or just\n",
    "    return [x['tag'] for x in line]"
   ]
  },
  {
   "cell_type": "code",
   "execution_count": 17,
   "metadata": {
    "tags": []
   },
   "outputs": [],
   "source": [
    "df['tags'] = df['tags'].apply(list_tags)"
   ]
  },
  {
   "cell_type": "code",
   "execution_count": 18,
   "metadata": {
    "tags": []
   },
   "outputs": [
    {
     "data": {
      "text/html": [
       "<div>\n",
       "<style scoped>\n",
       "    .dataframe tbody tr th:only-of-type {\n",
       "        vertical-align: middle;\n",
       "    }\n",
       "\n",
       "    .dataframe tbody tr th {\n",
       "        vertical-align: top;\n",
       "    }\n",
       "\n",
       "    .dataframe thead th {\n",
       "        text-align: right;\n",
       "    }\n",
       "</style>\n",
       "<table border=\"1\" class=\"dataframe\">\n",
       "  <thead>\n",
       "    <tr style=\"text-align: right;\">\n",
       "      <th></th>\n",
       "      <th>sophoraId</th>\n",
       "      <th>externalId</th>\n",
       "      <th>title</th>\n",
       "      <th>date</th>\n",
       "      <th>teaserImage</th>\n",
       "      <th>tags</th>\n",
       "      <th>tracking</th>\n",
       "      <th>topline</th>\n",
       "      <th>firstSentence</th>\n",
       "      <th>brandingImage</th>\n",
       "      <th>geotags</th>\n",
       "      <th>regionId</th>\n",
       "      <th>regionIds</th>\n",
       "      <th>type</th>\n",
       "      <th>breakingNews</th>\n",
       "      <th>alttext</th>\n",
       "      <th>copyright</th>\n",
       "      <th>ressort</th>\n",
       "    </tr>\n",
       "  </thead>\n",
       "  <tbody>\n",
       "    <tr>\n",
       "      <th>0</th>\n",
       "      <td>ndr-36-jaehriger-schwimmer-tot-aus-kiessee-bei...</td>\n",
       "      <td>tagesschau_fm-story-id-4ed766b3-779f-44f7-9faa...</td>\n",
       "      <td>36-jähriger Schwimmer tot aus Kiessee bei Frie...</td>\n",
       "      <td>2023-10-22 19:52:00+02:00</td>\n",
       "      <td>{'title': 'Mit Blaulicht und Martinshorn soll ...</td>\n",
       "      <td>[Niedersachsen]</td>\n",
       "      <td>[{'sid': 'app.inland.regional.niedersachsen.nd...</td>\n",
       "      <td>Niedersachsen</td>\n",
       "      <td>Taucher fanden den Mann rund eine Stunde, nach...</td>\n",
       "      <td>{'title': 'Logo NDR', 'copyright': 'tagesschau...</td>\n",
       "      <td>[]</td>\n",
       "      <td>9.0</td>\n",
       "      <td>[9]</td>\n",
       "      <td>story</td>\n",
       "      <td>False</td>\n",
       "      <td>NaN</td>\n",
       "      <td>NaN</td>\n",
       "      <td>NaN</td>\n",
       "    </tr>\n",
       "    <tr>\n",
       "      <th>1</th>\n",
       "      <td>wettervorhersage-europa-100</td>\n",
       "      <td>a13811c2-a633-446d-8c44-f854dbdb9233</td>\n",
       "      <td>Wetterlage und Temperaturen</td>\n",
       "      <td>2023-10-22 19:46:52.550000+02:00</td>\n",
       "      <td>{'copyright': 'ARD', 'alttext': 'Europa Wetter...</td>\n",
       "      <td>[Wetter]</td>\n",
       "      <td>[{'sid': 'app.wetter.europa-welt.wettervorhers...</td>\n",
       "      <td>Wettervorhersage Europa</td>\n",
       "      <td></td>\n",
       "      <td>NaN</td>\n",
       "      <td>[]</td>\n",
       "      <td>0.0</td>\n",
       "      <td>[]</td>\n",
       "      <td>story</td>\n",
       "      <td>False</td>\n",
       "      <td>NaN</td>\n",
       "      <td>NaN</td>\n",
       "      <td>NaN</td>\n",
       "    </tr>\n",
       "    <tr>\n",
       "      <th>2</th>\n",
       "      <td>hr-buergermeisterwahlen-ein-amtsinhaber-muss-g...</td>\n",
       "      <td>tagesschau_fm-story-id-902744f0-b542-4f4c-8098...</td>\n",
       "      <td>Bürgermeisterwahlen: Ein Amtsinhaber muss gehe...</td>\n",
       "      <td>2023-10-22 19:44:54.726000+02:00</td>\n",
       "      <td>{'copyright': 'picture-alliance/dpa (Archiv)',...</td>\n",
       "      <td>[Hessen]</td>\n",
       "      <td>[{'sid': 'app.inland.regional.hessen.hr-buerge...</td>\n",
       "      <td>Hessen</td>\n",
       "      <td>In vier hessischen Kommunen fanden am Sonntag ...</td>\n",
       "      <td>{'title': 'Logo HR', 'copyright': 'tagesschau,...</td>\n",
       "      <td>[]</td>\n",
       "      <td>7.0</td>\n",
       "      <td>[7]</td>\n",
       "      <td>story</td>\n",
       "      <td>False</td>\n",
       "      <td>NaN</td>\n",
       "      <td>NaN</td>\n",
       "      <td>NaN</td>\n",
       "    </tr>\n",
       "  </tbody>\n",
       "</table>\n",
       "</div>"
      ],
      "text/plain": [
       "                                           sophoraId  \\\n",
       "0  ndr-36-jaehriger-schwimmer-tot-aus-kiessee-bei...   \n",
       "1                        wettervorhersage-europa-100   \n",
       "2  hr-buergermeisterwahlen-ein-amtsinhaber-muss-g...   \n",
       "\n",
       "                                          externalId  \\\n",
       "0  tagesschau_fm-story-id-4ed766b3-779f-44f7-9faa...   \n",
       "1               a13811c2-a633-446d-8c44-f854dbdb9233   \n",
       "2  tagesschau_fm-story-id-902744f0-b542-4f4c-8098...   \n",
       "\n",
       "                                               title  \\\n",
       "0  36-jähriger Schwimmer tot aus Kiessee bei Frie...   \n",
       "1                        Wetterlage und Temperaturen   \n",
       "2  Bürgermeisterwahlen: Ein Amtsinhaber muss gehe...   \n",
       "\n",
       "                               date  \\\n",
       "0         2023-10-22 19:52:00+02:00   \n",
       "1  2023-10-22 19:46:52.550000+02:00   \n",
       "2  2023-10-22 19:44:54.726000+02:00   \n",
       "\n",
       "                                         teaserImage             tags  \\\n",
       "0  {'title': 'Mit Blaulicht und Martinshorn soll ...  [Niedersachsen]   \n",
       "1  {'copyright': 'ARD', 'alttext': 'Europa Wetter...         [Wetter]   \n",
       "2  {'copyright': 'picture-alliance/dpa (Archiv)',...         [Hessen]   \n",
       "\n",
       "                                            tracking                  topline  \\\n",
       "0  [{'sid': 'app.inland.regional.niedersachsen.nd...            Niedersachsen   \n",
       "1  [{'sid': 'app.wetter.europa-welt.wettervorhers...  Wettervorhersage Europa   \n",
       "2  [{'sid': 'app.inland.regional.hessen.hr-buerge...                   Hessen   \n",
       "\n",
       "                                       firstSentence  \\\n",
       "0  Taucher fanden den Mann rund eine Stunde, nach...   \n",
       "1                                                      \n",
       "2  In vier hessischen Kommunen fanden am Sonntag ...   \n",
       "\n",
       "                                       brandingImage geotags  regionId  \\\n",
       "0  {'title': 'Logo NDR', 'copyright': 'tagesschau...      []       9.0   \n",
       "1                                                NaN      []       0.0   \n",
       "2  {'title': 'Logo HR', 'copyright': 'tagesschau,...      []       7.0   \n",
       "\n",
       "  regionIds   type breakingNews alttext copyright ressort  \n",
       "0       [9]  story        False     NaN       NaN     NaN  \n",
       "1        []  story        False     NaN       NaN     NaN  \n",
       "2       [7]  story        False     NaN       NaN     NaN  "
      ]
     },
     "execution_count": 18,
     "metadata": {},
     "output_type": "execute_result"
    }
   ],
   "source": [
    "df.head(3)"
   ]
  },
  {
   "cell_type": "markdown",
   "metadata": {
    "jp-MarkdownHeadingCollapsed": true,
    "tags": []
   },
   "source": [
    "# Trying to join things together ,but failing :D\n"
   ]
  },
  {
   "cell_type": "code",
   "execution_count": 5,
   "metadata": {
    "tags": []
   },
   "outputs": [],
   "source": [
    "def load_data(file_path):\n",
    "    \n",
    "    with open(file_path, 'r') as file:\n",
    "        \n",
    "        if file_path.endswith('.json.gz'):\n",
    "            json_data = json.load(gzip.open(file, 'rt'))\n",
    "            \n",
    "        elif file_path.endswith('.json'):\n",
    "            json_data = json.load(file)\n",
    "            \n",
    "        else:\n",
    "            raise Exception(\"Filetype not recognized\") \n",
    "            print(\"LOAD DATE FAILED\") #When you aren't good at debugging and need to ask people\n",
    "\n",
    "        df_temp = pd.DataFrame.from_records(json_data['news'])\n",
    "        return df_temp"
   ]
  },
  {
   "cell_type": "code",
   "execution_count": 6,
   "metadata": {
    "tags": []
   },
   "outputs": [],
   "source": [
    "# Opens all JSON or gzipped JSON files in the specified folder and packs them into a list for later use.\n",
    "def data_to_dataframe(folder_path='News'):\n",
    "    list_of_data_frames = []\n",
    "    \n",
    "    for filename in os.listdir(folder_path):\n",
    "        file_path = os.path.join(folder_path, filename)\n",
    "        \n",
    "        load_data(file_path)\n",
    "                \n",
    "    print('Process finished')\n",
    "    return pd.concat(list_of_data_frames, ignore_index=True)"
   ]
  }
 ],
 "metadata": {
  "kernelspec": {
   "display_name": "Python 3 (ipykernel)",
   "language": "python",
   "name": "python3"
  },
  "language_info": {
   "codemirror_mode": {
    "name": "ipython",
    "version": 3
   },
   "file_extension": ".py",
   "mimetype": "text/x-python",
   "name": "python",
   "nbconvert_exporter": "python",
   "pygments_lexer": "ipython3",
   "version": "3.11.5"
  }
 },
 "nbformat": 4,
 "nbformat_minor": 4
}

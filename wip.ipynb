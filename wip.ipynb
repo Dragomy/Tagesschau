{
 "cells": [
  {
   "cell_type": "code",
   "execution_count": 1,
   "metadata": {},
   "outputs": [],
   "source": [
    "from read_data import data_to_dataframe\n",
    "from cleaning import clean_all\n",
    "import pandas as pd"
   ]
  },
  {
   "cell_type": "code",
   "execution_count": 2,
   "metadata": {},
   "outputs": [
    {
     "name": "stdout",
     "output_type": "stream",
     "text": [
      "Process finished\n"
     ]
    }
   ],
   "source": [
    "df = data_to_dataframe()"
   ]
  },
  {
   "cell_type": "code",
   "execution_count": 3,
   "metadata": {
    "tags": []
   },
   "outputs": [],
   "source": [
    "df = clean_all(df)"
   ]
  },
  {
   "cell_type": "code",
   "execution_count": 4,
   "metadata": {
    "tags": []
   },
   "outputs": [],
   "source": [
    "pd.set_option('display.max_colwidth', None)"
   ]
  },
  {
   "cell_type": "code",
   "execution_count": 5,
   "metadata": {
    "tags": []
   },
   "outputs": [
    {
     "data": {
      "text/html": [
       "<div>\n",
       "<style scoped>\n",
       "    .dataframe tbody tr th:only-of-type {\n",
       "        vertical-align: middle;\n",
       "    }\n",
       "\n",
       "    .dataframe tbody tr th {\n",
       "        vertical-align: top;\n",
       "    }\n",
       "\n",
       "    .dataframe thead th {\n",
       "        text-align: right;\n",
       "    }\n",
       "</style>\n",
       "<table border=\"1\" class=\"dataframe\">\n",
       "  <thead>\n",
       "    <tr style=\"text-align: right;\">\n",
       "      <th></th>\n",
       "      <th>sophoraId</th>\n",
       "      <th>externalId</th>\n",
       "      <th>title</th>\n",
       "      <th>date</th>\n",
       "      <th>tags</th>\n",
       "      <th>topline</th>\n",
       "      <th>firstSentence</th>\n",
       "      <th>geotags</th>\n",
       "      <th>regionId</th>\n",
       "      <th>regionIds</th>\n",
       "      <th>type</th>\n",
       "      <th>breakingNews</th>\n",
       "      <th>alttext</th>\n",
       "      <th>copyright</th>\n",
       "      <th>ressort</th>\n",
       "    </tr>\n",
       "  </thead>\n",
       "  <tbody>\n",
       "    <tr>\n",
       "      <th>0</th>\n",
       "      <td>ndr-36-jaehriger-schwimmer-tot-aus-kiessee-bei-friedland-geborgen-100</td>\n",
       "      <td>tagesschau_fm-story-id-4ed766b3-779f-44f7-9faa-682febcbe59e</td>\n",
       "      <td>36-jähriger Schwimmer tot aus Kiessee bei Friedland geborgen</td>\n",
       "      <td>2023-10-22 19:52:00+02:00</td>\n",
       "      <td>[Niedersachsen]</td>\n",
       "      <td>Niedersachsen</td>\n",
       "      <td>Taucher fanden den Mann rund eine Stunde, nachdem er um Hilfe gerufen hatte.</td>\n",
       "      <td>[]</td>\n",
       "      <td>9.0</td>\n",
       "      <td>[9]</td>\n",
       "      <td>story</td>\n",
       "      <td>False</td>\n",
       "      <td>NaN</td>\n",
       "      <td>NaN</td>\n",
       "      <td>NaN</td>\n",
       "    </tr>\n",
       "    <tr>\n",
       "      <th>1</th>\n",
       "      <td>wettervorhersage-europa-100</td>\n",
       "      <td>a13811c2-a633-446d-8c44-f854dbdb9233</td>\n",
       "      <td>Wetterlage und Temperaturen</td>\n",
       "      <td>2023-10-22 19:46:52.550000+02:00</td>\n",
       "      <td>[Wetter]</td>\n",
       "      <td>Wettervorhersage Europa</td>\n",
       "      <td></td>\n",
       "      <td>[]</td>\n",
       "      <td>0.0</td>\n",
       "      <td>[]</td>\n",
       "      <td>story</td>\n",
       "      <td>False</td>\n",
       "      <td>NaN</td>\n",
       "      <td>NaN</td>\n",
       "      <td>NaN</td>\n",
       "    </tr>\n",
       "    <tr>\n",
       "      <th>2</th>\n",
       "      <td>hr-buergermeisterwahlen-ein-amtsinhaber-muss-gehen-spd-erobert-drei-rathaeuser-100</td>\n",
       "      <td>tagesschau_fm-story-id-902744f0-b542-4f4c-8098-d54a0f817ea8</td>\n",
       "      <td>Bürgermeisterwahlen: Ein Amtsinhaber muss gehen, SPD erobert drei Rathäuser</td>\n",
       "      <td>2023-10-22 19:44:54.726000+02:00</td>\n",
       "      <td>[Hessen]</td>\n",
       "      <td>Hessen</td>\n",
       "      <td>In vier hessischen Kommunen fanden am Sonntag Bürgermeisterwahlen statt.</td>\n",
       "      <td>[]</td>\n",
       "      <td>7.0</td>\n",
       "      <td>[7]</td>\n",
       "      <td>story</td>\n",
       "      <td>False</td>\n",
       "      <td>NaN</td>\n",
       "      <td>NaN</td>\n",
       "      <td>NaN</td>\n",
       "    </tr>\n",
       "  </tbody>\n",
       "</table>\n",
       "</div>"
      ],
      "text/plain": [
       "                                                                            sophoraId  \\\n",
       "0               ndr-36-jaehriger-schwimmer-tot-aus-kiessee-bei-friedland-geborgen-100   \n",
       "1                                                         wettervorhersage-europa-100   \n",
       "2  hr-buergermeisterwahlen-ein-amtsinhaber-muss-gehen-spd-erobert-drei-rathaeuser-100   \n",
       "\n",
       "                                                    externalId  \\\n",
       "0  tagesschau_fm-story-id-4ed766b3-779f-44f7-9faa-682febcbe59e   \n",
       "1                         a13811c2-a633-446d-8c44-f854dbdb9233   \n",
       "2  tagesschau_fm-story-id-902744f0-b542-4f4c-8098-d54a0f817ea8   \n",
       "\n",
       "                                                                         title  \\\n",
       "0                 36-jähriger Schwimmer tot aus Kiessee bei Friedland geborgen   \n",
       "1                                                  Wetterlage und Temperaturen   \n",
       "2  Bürgermeisterwahlen: Ein Amtsinhaber muss gehen, SPD erobert drei Rathäuser   \n",
       "\n",
       "                               date             tags                  topline  \\\n",
       "0         2023-10-22 19:52:00+02:00  [Niedersachsen]            Niedersachsen   \n",
       "1  2023-10-22 19:46:52.550000+02:00         [Wetter]  Wettervorhersage Europa   \n",
       "2  2023-10-22 19:44:54.726000+02:00         [Hessen]                   Hessen   \n",
       "\n",
       "                                                                  firstSentence  \\\n",
       "0  Taucher fanden den Mann rund eine Stunde, nachdem er um Hilfe gerufen hatte.   \n",
       "1                                                                                 \n",
       "2      In vier hessischen Kommunen fanden am Sonntag Bürgermeisterwahlen statt.   \n",
       "\n",
       "  geotags  regionId regionIds   type breakingNews alttext copyright ressort  \n",
       "0      []       9.0       [9]  story        False     NaN       NaN     NaN  \n",
       "1      []       0.0        []  story        False     NaN       NaN     NaN  \n",
       "2      []       7.0       [7]  story        False     NaN       NaN     NaN  "
      ]
     },
     "execution_count": 5,
     "metadata": {},
     "output_type": "execute_result"
    }
   ],
   "source": [
    "df.head(3)"
   ]
  },
  {
   "cell_type": "code",
   "execution_count": null,
   "metadata": {},
   "outputs": [],
   "source": []
  }
 ],
 "metadata": {
  "kernelspec": {
   "display_name": "Python 3 (ipykernel)",
   "language": "python",
   "name": "python3"
  },
  "language_info": {
   "codemirror_mode": {
    "name": "ipython",
    "version": 3
   },
   "file_extension": ".py",
   "mimetype": "text/x-python",
   "name": "python",
   "nbconvert_exporter": "python",
   "pygments_lexer": "ipython3",
   "version": "3.11.5"
  }
 },
 "nbformat": 4,
 "nbformat_minor": 4
}
